{
 "cells": [
  {
   "cell_type": "code",
   "execution_count": 104,
   "id": "capital-array",
   "metadata": {},
   "outputs": [],
   "source": [
    "import numpy as np\n",
    "import pandas as pd\n",
    "import cobra.test\n",
    "import os\n",
    "\n",
    "from os.path import join\n",
    "\n",
    "from time import time\n",
    "\n",
    "\n",
    "from cobra.flux_analysis import (\n",
    "    single_gene_deletion, single_reaction_deletion, double_gene_deletion,\n",
    "    double_reaction_deletion)\n",
    "\n",
    "import cobra\n",
    "from cobra.test import create_test_model\n",
    "cobra_config = cobra.Configuration()\n",
    "cobra_config.solver = \"gurobi\"\n",
    "model = create_test_model(\"textbook\")\n",
    "model.solver\n",
    "\n",
    "a = cobra.io.read_sbml_model(\"iEC1344_C.xml\")\n"
   ]
  },
  {
   "cell_type": "code",
   "execution_count": 214,
   "id": "noble-lease",
   "metadata": {
    "scrolled": true
   },
   "outputs": [
    {
     "data": {
      "text/plain": [
       "Series([], dtype: object)"
      ]
     },
     "execution_count": 214,
     "metadata": {},
     "output_type": "execute_result"
    }
   ],
   "source": [
    "csvFile = pd.read_csv('FINAL unclassified_below_zero_and_inANDdecr_and_stable_above_zero reactions cut off 2.csv')\n",
    "csvFile2 = pd.read_csv(r'/home/schwartzlab/Documents/Anthi-Maria2/Lactose as a carbon source instead of glucose/FINAL unclassified_below_zero_and_inANDdecr_and_stable_above_zero reactions cut off 2 lactose.csv')\n",
    "\n",
    "\n",
    "D1= pd.DataFrame (csvFile, columns = ['Reaction names'])\n",
    "D2= pd.DataFrame (csvFile2, columns = ['Reaction names'])\n",
    "b= D1.iloc[:, 0]\n",
    "c= D2.iloc[:, 0]\n",
    "\n",
    "union = pd.Series(np.union1d(b, c))\n",
    "intersect = pd.Series(np.intersect1d(b, c))\n",
    "bigb2= union[~union.isin(intersect)]\n",
    "bigb2\n"
   ]
  },
  {
   "cell_type": "code",
   "execution_count": 11,
   "id": "involved-legislature",
   "metadata": {},
   "outputs": [],
   "source": [
    "#D= pd.DataFrame (bigb2, columns = ['Reaction names'])\n",
    "#D.to_csv(\"FINAL different reactions glu vs lac cut off 2.csv\")\n"
   ]
  },
  {
   "cell_type": "code",
   "execution_count": 196,
   "id": "valid-potato",
   "metadata": {},
   "outputs": [],
   "source": [
    "D2= pd.DataFrame (bigb2, columns = ['Reaction names'])\n",
    "D2.to_csv(\"ddd.csv\")\n"
   ]
  },
  {
   "cell_type": "code",
   "execution_count": 197,
   "id": "a8654c3d",
   "metadata": {},
   "outputs": [
    {
     "data": {
      "text/html": [
       "<div>\n",
       "<style scoped>\n",
       "    .dataframe tbody tr th:only-of-type {\n",
       "        vertical-align: middle;\n",
       "    }\n",
       "\n",
       "    .dataframe tbody tr th {\n",
       "        vertical-align: top;\n",
       "    }\n",
       "\n",
       "    .dataframe thead th {\n",
       "        text-align: right;\n",
       "    }\n",
       "</style>\n",
       "<table border=\"1\" class=\"dataframe\">\n",
       "  <thead>\n",
       "    <tr style=\"text-align: right;\">\n",
       "      <th></th>\n",
       "      <th>Reaction names</th>\n",
       "    </tr>\n",
       "  </thead>\n",
       "  <tbody>\n",
       "    <tr>\n",
       "      <th>0</th>\n",
       "      <td>LCTStex</td>\n",
       "    </tr>\n",
       "    <tr>\n",
       "      <th>30</th>\n",
       "      <td>3HAD40</td>\n",
       "    </tr>\n",
       "    <tr>\n",
       "      <th>31</th>\n",
       "      <td>3HAD60</td>\n",
       "    </tr>\n",
       "    <tr>\n",
       "      <th>32</th>\n",
       "      <td>3HAD80</td>\n",
       "    </tr>\n",
       "    <tr>\n",
       "      <th>41</th>\n",
       "      <td>3OAR40</td>\n",
       "    </tr>\n",
       "    <tr>\n",
       "      <th>...</th>\n",
       "      <td>...</td>\n",
       "    </tr>\n",
       "    <tr>\n",
       "      <th>45</th>\n",
       "      <td>EX_ptrc_e</td>\n",
       "    </tr>\n",
       "    <tr>\n",
       "      <th>51</th>\n",
       "      <td>EX_tre_e</td>\n",
       "    </tr>\n",
       "    <tr>\n",
       "      <th>58</th>\n",
       "      <td>OMMBLHX3</td>\n",
       "    </tr>\n",
       "    <tr>\n",
       "      <th>59</th>\n",
       "      <td>OMPHHX3</td>\n",
       "    </tr>\n",
       "    <tr>\n",
       "      <th>60</th>\n",
       "      <td>OPHHX3</td>\n",
       "    </tr>\n",
       "  </tbody>\n",
       "</table>\n",
       "<p>979 rows × 1 columns</p>\n",
       "</div>"
      ],
      "text/plain": [
       "   Reaction names\n",
       "0         LCTStex\n",
       "30         3HAD40\n",
       "31         3HAD60\n",
       "32         3HAD80\n",
       "41         3OAR40\n",
       "..            ...\n",
       "45      EX_ptrc_e\n",
       "51       EX_tre_e\n",
       "58       OMMBLHX3\n",
       "59        OMPHHX3\n",
       "60         OPHHX3\n",
       "\n",
       "[979 rows x 1 columns]"
      ]
     },
     "execution_count": 197,
     "metadata": {},
     "output_type": "execute_result"
    }
   ],
   "source": [
    "D= D.append(D2)\n",
    "D\n"
   ]
  },
  {
   "cell_type": "code",
   "execution_count": 215,
   "id": "04f19949",
   "metadata": {},
   "outputs": [],
   "source": [
    "D.to_csv(\"Different reactions glu vs lac cut off 2.csv\")\n"
   ]
  },
  {
   "cell_type": "code",
   "execution_count": 216,
   "id": "aa6f4fa2",
   "metadata": {},
   "outputs": [],
   "source": [
    "Dnew= D.drop_duplicates()\n",
    "Dnew.to_csv(\"NEW different reactions glu vs lac cut off 2.csv\")\n"
   ]
  },
  {
   "cell_type": "code",
   "execution_count": null,
   "id": "d6172cbf",
   "metadata": {},
   "outputs": [],
   "source": []
  }
 ],
 "metadata": {
  "kernelspec": {
   "display_name": "Python 3",
   "language": "python",
   "name": "python3"
  },
  "language_info": {
   "codemirror_mode": {
    "name": "ipython",
    "version": 3
   },
   "file_extension": ".py",
   "mimetype": "text/x-python",
   "name": "python",
   "nbconvert_exporter": "python",
   "pygments_lexer": "ipython3",
   "version": "3.8.3"
  }
 },
 "nbformat": 4,
 "nbformat_minor": 5
}
